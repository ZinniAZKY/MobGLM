{
 "cells": [
  {
   "cell_type": "markdown",
   "id": "b1fd26a7-e99e-401e-9c49-fdb36d7f80de",
   "metadata": {},
   "source": []
  },
  {
   "cell_type": "markdown",
   "id": "bc17adbc-f1c4-4df4-a599-9eb747d92291",
   "metadata": {},
   "source": [
    "# Special tokens:\n",
    "print(\"<eos>, <|data|>, <|sep|>\\n\")\n",
    "\n",
    "# The day-of-week tokens:\n",
    "print(\"<|dow0|>, <|dow1|>, <|dow2|>, <|dow3|>, <|dow4|>, <|dow5|>, <|dow6|>\\n\")\n",
    "\n",
    "# User id tokens\n",
    "print(\"0, 1, 2, 3, 4, 5, 6, 7, 8, 9\\n\")\n",
    "\n",
    "# Location tokens:\n",
    "print(\"N\")\n",
    "print(\"x000, x001, x002, x003, x004, ..., x499\")\n",
    "print(\"y000, y001, y002, y003, y004, ..., y499\")"
   ]
  },
  {
   "cell_type": "code",
   "execution_count": null,
   "id": "d1a4acf9-c1d8-4d14-8521-d927a65c1646",
   "metadata": {},
   "outputs": [],
   "source": []
  }
 ],
 "metadata": {
  "kernelspec": {
   "display_name": "Python 3 (ipykernel)",
   "language": "python",
   "name": "python3"
  },
  "language_info": {
   "codemirror_mode": {
    "name": "ipython",
    "version": 3
   },
   "file_extension": ".py",
   "mimetype": "text/x-python",
   "name": "python",
   "nbconvert_exporter": "python",
   "pygments_lexer": "ipython3",
   "version": "3.10.12"
  }
 },
 "nbformat": 4,
 "nbformat_minor": 5
}
