{
 "cells": [
  {
   "cell_type": "code",
   "execution_count": 40,
   "id": "e053ecd4-0e57-40e8-ab57-ed8b35f6072f",
   "metadata": {},
   "outputs": [],
   "source": [
    "from tokenizers import Tokenizer\n",
    "from tokenizers.models import WordLevel\n",
    "from tokenizers.trainers import WordLevelTrainer\n",
    "from tokenizers.pre_tokenizers import WhitespaceSplit\n",
    "from transformers import PreTrainedTokenizerFast\n",
    "from torch.utils.data import Dataset\n",
    "\n",
    "from tqdm import tqdm"
   ]
  },
  {
   "cell_type": "code",
   "execution_count": 41,
   "id": "ce7028e3-fbc6-41c3-966e-9975806aeaf2",
   "metadata": {},
   "outputs": [],
   "source": [
    "class TextDataset(Dataset):\n",
    "    def __init__(self, file_path):\n",
    "        self.examples = []\n",
    "\n",
    "        with open(file_path, encoding='utf-8') as f:\n",
    "            i = 0\n",
    "            for line in tqdm(f, desc=\"Loading Dataset\"):\n",
    "                self.examples.append(line.strip())\n",
    "                i += 1\n",
    "\n",
    "    def __len__(self):\n",
    "        return len(self.examples)\n",
    "\n",
    "    def __getitem__(self, idx):\n",
    "        return self.examples[idx]"
   ]
  },
  {
   "cell_type": "code",
   "execution_count": 42,
   "id": "34c11115-83c7-44d6-a42d-f9f2389b1b0f",
   "metadata": {},
   "outputs": [],
   "source": [
    "def get_training_corpus():\n",
    "    for i in range(0, len(dataset), 1000):\n",
    "        yield dataset[i: i + 1000]"
   ]
  },
  {
   "cell_type": "code",
   "execution_count": 43,
   "id": "28c3c223-0728-4502-b90c-336cb40d1590",
   "metadata": {},
   "outputs": [],
   "source": [
    "predefined_tokenizer = Tokenizer(model=WordLevel(unk_token=\"[UNK]\"))\n",
    "predefined_tokenizer.pre_tokenizer = WhitespaceSplit()"
   ]
  },
  {
   "cell_type": "code",
   "execution_count": 44,
   "id": "c7011ad8-b656-4cc8-b2c7-77f268161d9d",
   "metadata": {
    "collapsed": true,
    "jupyter": {
     "outputs_hidden": true
    },
    "scrolled": true
   },
   "outputs": [
    {
     "name": "stderr",
     "output_type": "stream",
     "text": [
      "Loading Dataset: 576806it [00:00, 762834.45it/s]\n"
     ]
    },
    {
     "data": {
      "text/plain": [
       "{'Delivering': 33,\n",
       " 'Housewife': 18,\n",
       " 'Back_Home': 3,\n",
       " 'Private_Space': 5,\n",
       " 'Traffic_Worker': 51,\n",
       " 'Business_Place': 4,\n",
       " 'Go_Eat': 15,\n",
       " '5': 41,\n",
       " 'Go_Occupation': 38,\n",
       " '50': 35,\n",
       " 'Shopping_Daily': 12,\n",
       " '30': 29,\n",
       " 'Office': 1,\n",
       " 'Pickup_Drop_Off': 31,\n",
       " '25': 37,\n",
       " 'Socializing': 7,\n",
       " 'Technical_Worker': 19,\n",
       " 'Store_Daily': 8,\n",
       " 'Go_Other_Business': 24,\n",
       " 'Security_Worker': 55,\n",
       " 'Student': 17,\n",
       " 'Service_Worker': 28,\n",
       " '20': 42,\n",
       " '15': 43,\n",
       " 'Attend_Meeting': 21,\n",
       " 'nan': 54,\n",
       " '80': 48,\n",
       " 'Unemployed': 16,\n",
       " 'House': 0,\n",
       " 'Go_Sightseeing': 34,\n",
       " 'Tourist_Spot': 13,\n",
       " 'Unclear': 53,\n",
       " 'Go_School': 11,\n",
       " 'Private_Movement': 14,\n",
       " 'Labor_Worker': 47,\n",
       " 'Office_Worker': 22,\n",
       " '65': 30,\n",
       " 'Managerial_Worker': 39,\n",
       " 'Female': 9,\n",
       " 'Welcoming': 20,\n",
       " '10': 40,\n",
       " 'Other_Occupation': 49,\n",
       " '75': 44,\n",
       " '60': 26,\n",
       " 'Sales_Worker': 45,\n",
       " '35': 23,\n",
       " 'Male': 10,\n",
       " '45': 32,\n",
       " 'Agriculture_Worker': 52,\n",
       " 'School': 2,\n",
       " 'Go_Agricultural_Work': 56,\n",
       " 'Commute': 6,\n",
       " '55': 27,\n",
       " 'Natural_Area': 46,\n",
       " '85': 50,\n",
       " '70': 36,\n",
       " '40': 25}"
      ]
     },
     "execution_count": 44,
     "metadata": {},
     "output_type": "execute_result"
    }
   ],
   "source": [
    "dataset = TextDataset('data/Tokyo2008PTChainSummary.txt')\n",
    "\n",
    "trainer = WordLevelTrainer()\n",
    "predefined_tokenizer.train_from_iterator(get_training_corpus(), trainer=trainer)\n",
    "predefined_tokenizer.get_vocab()"
   ]
  },
  {
   "cell_type": "code",
   "execution_count": 45,
   "id": "b68e5d6c-9c9b-41dc-a7f4-4b9e56e79af6",
   "metadata": {
    "collapsed": true,
    "jupyter": {
     "outputs_hidden": true
    },
    "scrolled": true
   },
   "outputs": [
    {
     "data": {
      "text/plain": [
       "{'House': 0,\n",
       " 'Office': 1,\n",
       " 'School': 2,\n",
       " 'Back_Home': 3,\n",
       " 'Business_Place': 4,\n",
       " 'Private_Space': 5,\n",
       " 'Commute': 6,\n",
       " 'Socializing': 7,\n",
       " 'Store_Daily': 8,\n",
       " 'Female': 9,\n",
       " 'Male': 10,\n",
       " 'Go_School': 11,\n",
       " 'Shopping_Daily': 12,\n",
       " 'Tourist_Spot': 13,\n",
       " 'Private_Movement': 14,\n",
       " 'Go_Eat': 15,\n",
       " 'Unemployed': 16,\n",
       " 'Student': 17,\n",
       " 'Housewife': 18,\n",
       " 'Technical_Worker': 19,\n",
       " 'Welcoming': 20,\n",
       " 'Attend_Meeting': 21,\n",
       " 'Office_Worker': 22,\n",
       " '35': 23,\n",
       " 'Go_Other_Business': 24,\n",
       " '40': 25,\n",
       " '60': 26,\n",
       " '55': 27,\n",
       " 'Service_Worker': 28,\n",
       " '30': 29,\n",
       " '65': 30,\n",
       " 'Pickup_Drop_Off': 31,\n",
       " '45': 32,\n",
       " 'Delivering': 33,\n",
       " 'Go_Sightseeing': 34,\n",
       " '50': 35,\n",
       " '70': 36,\n",
       " '25': 37,\n",
       " 'Go_Occupation': 38,\n",
       " 'Managerial_Worker': 39,\n",
       " '10': 40,\n",
       " '5': 41,\n",
       " '20': 42,\n",
       " '15': 43,\n",
       " '75': 44,\n",
       " 'Sales_Worker': 45,\n",
       " 'Natural_Area': 46,\n",
       " 'Labor_Worker': 47,\n",
       " '80': 48,\n",
       " 'Other_Occupation': 49,\n",
       " '85': 50,\n",
       " 'Traffic_Worker': 51,\n",
       " 'Agriculture_Worker': 52,\n",
       " 'Unclear': 53,\n",
       " 'nan': 54,\n",
       " 'Security_Worker': 55,\n",
       " 'Go_Agricultural_Work': 56}"
      ]
     },
     "execution_count": 45,
     "metadata": {},
     "output_type": "execute_result"
    }
   ],
   "source": [
    "vocab = predefined_tokenizer.get_vocab()\n",
    "sorted_vocab = {k:v for k, v in sorted(vocab.items(), key=lambda item: item[1])}\n",
    "sorted_vocab"
   ]
  },
  {
   "cell_type": "code",
   "execution_count": 52,
   "id": "aab315ae-1a95-45ff-9ab5-d0cfc8123767",
   "metadata": {},
   "outputs": [],
   "source": [
    "predefined_vocab = {\n",
    "     # '[UNK]': 0,\n",
    "     # '[EOS]': 1,\n",
    "     # '[PAD]': 2,\n",
    "     'nan': 0,\n",
    "     # activities \n",
    "     'House': 1,\n",
    "     'Commute': 2,\n",
    "     'Office': 3,\n",
    "     'Go_School': 4,\n",
    "     'School': 5,\n",
    "     'Back_Home': 6,\n",
    "     'Attend_Meeting': 7,\n",
    "     'Go_Occupation': 8,\n",
    "     'Delivering': 9,\n",
    "     'Go_Other_Business': 10,\n",
    "     'Business_Place': 11,\n",
    "     'Private_Movement': 12,\n",
    "     'Private_Space': 13,\n",
    "     'Go_Eat': 14,\n",
    "     'Socializing': 15,\n",
    "     'Shopping_Daily': 16,\n",
    "     'Store_Daily': 17,  \n",
    "     'Welcoming': 18,\n",
    "     'Pickup_Drop_Off': 19,\n",
    "     'Go_Sightseeing': 20,\n",
    "     'Tourist_Spot': 21,\n",
    "     'Natural_Area': 22,\n",
    "     # Occupation\n",
    "     'Office_Worker': 23,\n",
    "     'Technical_Worker': 24,\n",
    "     'Service_Worker': 25,\n",
    "     'Managerial_Worker': 26,\n",
    "     'Sales_Worker': 27,\n",
    "     'Security_Worker': 28,\n",
    "     'Go_Agricultural_Work': 29,\n",
    "     'Agriculture_Worker': 30,\n",
    "     'Labor_Worker': 31,\n",
    "     'Traffic_Worker': 32,\n",
    "     'Other_Occupation': 33,\n",
    "     'Student': 34,\n",
    "     'Housewife': 35,\n",
    "     'Unemployed': 36,\n",
    "     'Unclear': 37,\n",
    "     # Gender\n",
    "     'Male': 38,\n",
    "     'Female': 39,\n",
    "     # Age\n",
    "     '5': 40,\n",
    "     '10': 41,\n",
    "     '15': 42,\n",
    "     '20': 43,\n",
    "     '25': 44,\n",
    "     '30': 45,\n",
    "     '35': 46,\n",
    "     '40': 47,\n",
    "     '45': 48,\n",
    "     '50': 49,\n",
    "     '55': 50,\n",
    "     '60': 51,\n",
    "     '65': 52,\n",
    "     '70': 53,\n",
    "     '75': 54,\n",
    "     '80': 55,\n",
    "     '85': 56,\n",
    "     }"
   ]
  },
  {
   "cell_type": "code",
   "execution_count": 53,
   "id": "59db68a9-9874-4ae6-93df-830764d4ecd8",
   "metadata": {},
   "outputs": [
    {
     "data": {
      "text/plain": [
       "('PTtokenizer/Tokyo/tokenizer_config.json',\n",
       " 'PTtokenizer/Tokyo/special_tokens_map.json',\n",
       " 'PTtokenizer/Tokyo/tokenizer.json')"
      ]
     },
     "execution_count": 53,
     "metadata": {},
     "output_type": "execute_result"
    }
   ],
   "source": [
    "new_tokenizer = Tokenizer(WordLevel(vocab=predefined_vocab))\n",
    "new_tokenizer.pre_tokenizer = WhitespaceSplit()\n",
    "\n",
    "fast_tokenizer = PreTrainedTokenizerFast(tokenizer_object=new_tokenizer)\n",
    "fast_tokenizer.add_special_tokens({'pad_token': '[PAD]', 'eos_token': '[EOS]', 'unk_token': '[UNK]'})\n",
    "fast_tokenizer.save_pretrained(\"PTtokenizer/Tokyo\")"
   ]
  }
 ],
 "metadata": {
  "kernelspec": {
   "display_name": "Python 3 (ipykernel)",
   "language": "python",
   "name": "python3"
  },
  "language_info": {
   "codemirror_mode": {
    "name": "ipython",
    "version": 3
   },
   "file_extension": ".py",
   "mimetype": "text/x-python",
   "name": "python",
   "nbconvert_exporter": "python",
   "pygments_lexer": "ipython3",
   "version": "3.9.18"
  }
 },
 "nbformat": 4,
 "nbformat_minor": 5
}
